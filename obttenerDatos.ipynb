{
 "cells": [
  {
   "cell_type": "code",
   "execution_count": 2,
   "metadata": {},
   "outputs": [],
   "source": [
    "import numpy as np\n",
    "import pandas as pd\n",
    "\n",
    "import requests\n",
    "import matplotlib.pyplot as plt\n",
    "import seaborn as sns\n",
    "from pprint import pprint\n",
    "import base64\n"
   ]
  },
  {
   "cell_type": "code",
   "execution_count": 13,
   "metadata": {},
   "outputs": [],
   "source": [
    "client_id = '7a2b21cebdb44bc282e6e415eaccf347'\n",
    "client_secret = 'a276bff35be5492da4e8c8015ebcd5ae'\n",
    "\n",
    "# Codifica las credenciales en base64\n",
    "encoded = base64.b64encode(bytes(client_id + ':' + client_secret, 'utf-8')).decode('utf-8')\n",
    "\n",
    "headers = {\n",
    "    'Authorization': 'Basic ' + encoded\n",
    "}\n",
    "\n",
    "body = {\n",
    "    'grant_type': 'client_credentials'\n",
    "}\n",
    "\n",
    "auth_response = requests.post('https://accounts.spotify.com/api/token', headers=headers, data=body)\n",
    "access_token = auth_response.json()['access_token']"
   ]
  },
  {
   "cell_type": "markdown",
   "metadata": {},
   "source": [
    "### Obtener albunes mas nuevos"
   ]
  },
  {
   "cell_type": "code",
   "execution_count": 42,
   "metadata": {},
   "outputs": [
    {
     "data": {
      "text/html": [
       "<div>\n",
       "<style scoped>\n",
       "    .dataframe tbody tr th:only-of-type {\n",
       "        vertical-align: middle;\n",
       "    }\n",
       "\n",
       "    .dataframe tbody tr th {\n",
       "        vertical-align: top;\n",
       "    }\n",
       "\n",
       "    .dataframe thead th {\n",
       "        text-align: right;\n",
       "    }\n",
       "</style>\n",
       "<table border=\"1\" class=\"dataframe\">\n",
       "  <thead>\n",
       "    <tr style=\"text-align: right;\">\n",
       "      <th></th>\n",
       "    </tr>\n",
       "  </thead>\n",
       "  <tbody>\n",
       "  </tbody>\n",
       "</table>\n",
       "</div>"
      ],
      "text/plain": [
       "Empty DataFrame\n",
       "Columns: []\n",
       "Index: []"
      ]
     },
     "execution_count": 42,
     "metadata": {},
     "output_type": "execute_result"
    }
   ],
   "source": [
    "headers = {\n",
    "    'Authorization': 'Bearer ' + access_token\n",
    "}\n",
    "\n",
    "url = 'https://api.spotify.com/v1/browse/new-releases?market=US'\n",
    "\n",
    "response = requests.get(url, headers=headers)\n",
    "data = response.json()\n",
    "\n",
    "\n",
    "artist_list = []\n",
    "\n",
    "if data.get('albums') and data['albums'].get('items'):\n",
    "    for album in data['albums']['items']:\n",
    "        for artist in album['artists']:\n",
    "            artist_info = {\n",
    "                'artist_id': artist['id'],\n",
    "                'artist_name': artist['name'],\n",
    "                'album_id': album['id'],\n",
    "                'album_name': album['name'],\n",
    "                'release_date': album['release_date'],\n",
    "                'total_tracks': album['total_tracks'],\n",
    "                'available_markets': album['available_markets'],\n",
    "                'popularity': album['popularity'],\n",
    "                \n",
    "                \n",
    "            }\n",
    "            artist_list.append(artist_info)\n",
    "\n",
    "# Convertir la lista en DataFrame\n",
    "df_artists = pd.DataFrame(artist_list)\n",
    "\n",
    "# Mostrar el DataFrame\n",
    "df_artists.head()\n",
    "\n",
    "\n"
   ]
  },
  {
   "cell_type": "code",
   "execution_count": null,
   "metadata": {},
   "outputs": [],
   "source": []
  },
  {
   "cell_type": "code",
   "execution_count": null,
   "metadata": {},
   "outputs": [],
   "source": []
  },
  {
   "cell_type": "code",
   "execution_count": null,
   "metadata": {},
   "outputs": [],
   "source": []
  },
  {
   "cell_type": "code",
   "execution_count": null,
   "metadata": {},
   "outputs": [],
   "source": []
  },
  {
   "cell_type": "code",
   "execution_count": null,
   "metadata": {},
   "outputs": [],
   "source": []
  }
 ],
 "metadata": {
  "kernelspec": {
   "display_name": "Python 3",
   "language": "python",
   "name": "python3"
  },
  "language_info": {
   "codemirror_mode": {
    "name": "ipython",
    "version": 3
   },
   "file_extension": ".py",
   "mimetype": "text/x-python",
   "name": "python",
   "nbconvert_exporter": "python",
   "pygments_lexer": "ipython3",
   "version": "3.12.1"
  }
 },
 "nbformat": 4,
 "nbformat_minor": 2
}
